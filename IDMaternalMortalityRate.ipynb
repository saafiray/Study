{
  "nbformat": 4,
  "nbformat_minor": 0,
  "metadata": {
    "colab": {
      "provenance": [],
      "include_colab_link": true
    },
    "kernelspec": {
      "name": "python3",
      "display_name": "Python 3"
    },
    "language_info": {
      "name": "python"
    }
  },
  "cells": [
    {
      "cell_type": "markdown",
      "metadata": {
        "id": "view-in-github",
        "colab_type": "text"
      },
      "source": [
        "<a href=\"https://colab.research.google.com/github/saafiray/Study/blob/main/IDMaternalMortalityRate.ipynb\" target=\"_parent\"><img src=\"https://colab.research.google.com/assets/colab-badge.svg\" alt=\"Open In Colab\"/></a>"
      ]
    },
    {
      "cell_type": "markdown",
      "source": [
        "**Setup Library**"
      ],
      "metadata": {
        "id": "9Kbe8tTdgfHY"
      }
    },
    {
      "cell_type": "code",
      "execution_count": null,
      "metadata": {
        "id": "94stMK_o18CZ"
      },
      "outputs": [],
      "source": [
        "# Import libs\n",
        "import pandas as pd\n",
        "import matplotlib.pyplot as plt"
      ]
    },
    {
      "cell_type": "code",
      "source": [
        "# Setting max rows\n",
        "pd.set_option('display.max_rows', None)"
      ],
      "metadata": {
        "id": "BrOsW8y16fmJ"
      },
      "execution_count": null,
      "outputs": []
    },
    {
      "cell_type": "markdown",
      "source": [
        "\n",
        "\n",
        "---\n",
        "\n"
      ],
      "metadata": {
        "id": "_y6k15-zg4zy"
      }
    },
    {
      "cell_type": "markdown",
      "source": [
        "Kita akan menganalisis MMR masing-masing provinsi di Indonesia pada tahun 2020. Tujuannya adalah untuk mengetahui MMR pada tiap-tiap provinsi dan pulau. Hasil dari analisis ini juga dapat digunakan untuk mengetahui provinsi mana yang perlu mendapatkan perhatian lebih pada fasilitas kesehatan.\n",
        "\n",
        "Dataset yang digunakan\n",
        "CBR : https://www.bps.go.id/id/statistics-table/1/MjIxMyMx/angka-kelahiran-kasar--crude-birth-rate--hasil-long-form-sp2020-menurut-provinsi-kabupaten-kota--2020.html\n",
        "\n",
        "populasi 2020 : https://sulut.bps.go.id/id/statistics-table/2/OTU4IzI=/jumlah-penduduk-menurut-provinsi-diindonesia.html\n",
        "\n",
        "MMR : https://www.bps.go.id/id/statistics-table/1/MjIxOSMx/angka-kematian-ibu-aki--maternal-mortality-rate-mmr---hasil-long-form-sp2020-menurut-provinsi--2020.html\n",
        "\n",
        "dataset yang digunakan pada notebook ini adalah dataset csv yang berasal dari sumber tersebut yang telah disesuaikan untuk kepentingan pengolahan data."
      ],
      "metadata": {
        "id": "L_jxJGo6L5zu"
      }
    },
    {
      "cell_type": "markdown",
      "source": [
        "\n",
        "\n",
        "---\n",
        "\n"
      ],
      "metadata": {
        "id": "rhJizmEag8AM"
      }
    },
    {
      "cell_type": "markdown",
      "source": [
        "Persiapan data"
      ],
      "metadata": {
        "id": "_dn_fDJagvOk"
      }
    },
    {
      "cell_type": "code",
      "source": [
        "## LOAD DATA\n",
        "data_mmr = pd.read_csv('/content/mmr2020.csv', index_col=0)"
      ],
      "metadata": {
        "id": "g3Yc0VpI21Bj"
      },
      "execution_count": null,
      "outputs": []
    },
    {
      "cell_type": "code",
      "source": [
        "# LOAD DATA CBR DAN POPULASI\n",
        "data_cbr = pd.read_csv('/content/cbr2020.csv', index_col=0)\n",
        "data_populasi2020 = pd.read_csv('/content/datapenduduk201820192020.csv', index_col=0)"
      ],
      "metadata": {
        "id": "0iQC5CAiL6Lr"
      },
      "execution_count": null,
      "outputs": []
    },
    {
      "cell_type": "code",
      "source": [
        "# MERGE DATA\n",
        "data = pd.merge(data_mmr, data_cbr, on='Provinsi', how='inner') # MERGE DENGAN CBR\n",
        "data = pd.merge(data, data_populasi2020, on='Provinsi', how='inner') # MERGE DENGAN POPULASI 2020"
      ],
      "metadata": {
        "id": "Dk3AYH38HylZ"
      },
      "execution_count": null,
      "outputs": []
    },
    {
      "cell_type": "code",
      "source": [
        "# MELIHAT KOLOM YANG ADA PADA DATA\n",
        "data.columns"
      ],
      "metadata": {
        "colab": {
          "base_uri": "https://localhost:8080/"
        },
        "id": "-5SifwUHQjsQ",
        "outputId": "48b287ef-205d-4841-b484-d57e51528bb3"
      },
      "execution_count": null,
      "outputs": [
        {
          "output_type": "execute_result",
          "data": {
            "text/plain": [
              "Index(['Provinsi', 'MMR', 'Angka Kelahiran Kasar', '2018', '2019', '2020'], dtype='object')"
            ]
          },
          "metadata": {},
          "execution_count": 231
        }
      ]
    },
    {
      "cell_type": "code",
      "source": [
        "# MELIHAT TIPE DATA KOLOM\n",
        "data.dtypes"
      ],
      "metadata": {
        "colab": {
          "base_uri": "https://localhost:8080/",
          "height": 272
        },
        "id": "n14rFWuURAuB",
        "outputId": "e243038f-7571-4aa6-bc42-b84e57f31328"
      },
      "execution_count": null,
      "outputs": [
        {
          "output_type": "execute_result",
          "data": {
            "text/plain": [
              "Provinsi                  object\n",
              "MMR                        int64\n",
              "Angka Kelahiran Kasar     object\n",
              "2018                     float64\n",
              "2019                     float64\n",
              "2020                     float64\n",
              "dtype: object"
            ],
            "text/html": [
              "<div>\n",
              "<style scoped>\n",
              "    .dataframe tbody tr th:only-of-type {\n",
              "        vertical-align: middle;\n",
              "    }\n",
              "\n",
              "    .dataframe tbody tr th {\n",
              "        vertical-align: top;\n",
              "    }\n",
              "\n",
              "    .dataframe thead th {\n",
              "        text-align: right;\n",
              "    }\n",
              "</style>\n",
              "<table border=\"1\" class=\"dataframe\">\n",
              "  <thead>\n",
              "    <tr style=\"text-align: right;\">\n",
              "      <th></th>\n",
              "      <th>0</th>\n",
              "    </tr>\n",
              "  </thead>\n",
              "  <tbody>\n",
              "    <tr>\n",
              "      <th>Provinsi</th>\n",
              "      <td>object</td>\n",
              "    </tr>\n",
              "    <tr>\n",
              "      <th>MMR</th>\n",
              "      <td>int64</td>\n",
              "    </tr>\n",
              "    <tr>\n",
              "      <th>Angka Kelahiran Kasar</th>\n",
              "      <td>object</td>\n",
              "    </tr>\n",
              "    <tr>\n",
              "      <th>2018</th>\n",
              "      <td>float64</td>\n",
              "    </tr>\n",
              "    <tr>\n",
              "      <th>2019</th>\n",
              "      <td>float64</td>\n",
              "    </tr>\n",
              "    <tr>\n",
              "      <th>2020</th>\n",
              "      <td>float64</td>\n",
              "    </tr>\n",
              "  </tbody>\n",
              "</table>\n",
              "</div><br><label><b>dtype:</b> object</label>"
            ]
          },
          "metadata": {},
          "execution_count": 232
        }
      ]
    },
    {
      "cell_type": "code",
      "source": [
        "# MENGUBAH NAMA KOLOM Angka Kelahiran Kasar MENJADI CBR\n",
        "data.rename(columns={'Angka Kelahiran Kasar': 'CBR'}, inplace=True)"
      ],
      "metadata": {
        "id": "D_BJgMKoQnsR"
      },
      "execution_count": null,
      "outputs": []
    },
    {
      "cell_type": "code",
      "source": [
        "# MENGUBAH TIPE DATA KOLOM CBR MENJADI FLOAT\n",
        "data['CBR'] = data['CBR'].replace(',', '.', regex=True).astype(float)"
      ],
      "metadata": {
        "id": "AQvXqQYbRIcB"
      },
      "execution_count": null,
      "outputs": []
    },
    {
      "cell_type": "code",
      "source": [
        "# DROP KOLOM 2018 dan 2019 karena kita hanya butuh populasi pada tahun 2020\n",
        "data.drop(columns=['2018', '2019'], inplace=True)"
      ],
      "metadata": {
        "id": "NkUkxYsPKt5i"
      },
      "execution_count": null,
      "outputs": []
    },
    {
      "cell_type": "code",
      "source": [
        "# DATA YANG ADA DI KOLOM 2020 ADALAH POPULASI PERSERIBU, UBAH KE PERSATU\n",
        "data['2020'] = data['2020'] * 1000"
      ],
      "metadata": {
        "id": "MQNx0FZjQVWc"
      },
      "execution_count": null,
      "outputs": []
    },
    {
      "cell_type": "markdown",
      "source": [
        "\n",
        "\n",
        "---\n",
        "\n"
      ],
      "metadata": {
        "id": "yqd47SZphIn-"
      }
    },
    {
      "cell_type": "markdown",
      "source": [
        "$\n",
        "\\text{Jumlah Kelahiran Hidup} =  \\frac{\\text{CBR} \\times \\text{Jumlah Penduduk}}{1,000}\n",
        "$"
      ],
      "metadata": {
        "id": "PKcf_tDWP_rQ"
      }
    },
    {
      "cell_type": "code",
      "source": [
        "# MENAMBAHKAN KOLOM JUMLAH KELAHIRAN HIDUP\n",
        "data['Jumlah Kelahiran Hidup'] = (data['CBR'] * data['2020']) / 1000"
      ],
      "metadata": {
        "id": "tdNvDxz2Q4Az"
      },
      "execution_count": null,
      "outputs": []
    },
    {
      "cell_type": "markdown",
      "source": [
        "$ \\text{Jumlah Kematian Ibu} = \\left( \\frac{MMR}{100,000} \\right) \\times \\text{Jumlah Kelahiran Hidup}$"
      ],
      "metadata": {
        "id": "jIJRA9sbUxDZ"
      }
    },
    {
      "cell_type": "code",
      "source": [
        "# MENAMBAHKAN KOLOM JUMLAH KEMATIAN IBU\n",
        "data['Jumlah Kematian Ibu'] = (data['MMR'] / 100000) * data['Jumlah Kelahiran Hidup']"
      ],
      "metadata": {
        "id": "ZxfGwRc2QK2F"
      },
      "execution_count": null,
      "outputs": []
    },
    {
      "cell_type": "markdown",
      "source": [
        "\n",
        "\n",
        "---\n",
        "\n"
      ],
      "metadata": {
        "id": "wn96RP2IhKfS"
      }
    },
    {
      "cell_type": "code",
      "source": [
        "# Kolom data\n",
        "data.columns"
      ],
      "metadata": {
        "colab": {
          "base_uri": "https://localhost:8080/"
        },
        "id": "VHW4N0yG381h",
        "outputId": "a03ec024-00b7-4b78-f902-5f076ce9becf"
      },
      "execution_count": null,
      "outputs": [
        {
          "output_type": "execute_result",
          "data": {
            "text/plain": [
              "Index(['Provinsi', 'MMR', 'CBR', '2020', 'Jumlah Kelahiran Hidup',\n",
              "       'Jumlah Kematian Ibu'],\n",
              "      dtype='object')"
            ]
          },
          "metadata": {},
          "execution_count": 239
        }
      ]
    },
    {
      "cell_type": "code",
      "source": [
        "data['Provinsi']"
      ],
      "metadata": {
        "colab": {
          "base_uri": "https://localhost:8080/",
          "height": 1000
        },
        "id": "ZGmRG9j3358c",
        "outputId": "c7462f9d-199b-4769-dabc-d70e2dc2dbcf"
      },
      "execution_count": null,
      "outputs": [
        {
          "output_type": "execute_result",
          "data": {
            "text/plain": [
              "0                          ACEH\n",
              "1                SUMATERA UTARA\n",
              "2                SUMATERA BARAT\n",
              "3                          RIAU\n",
              "4                         JAMBI\n",
              "5              SUMATERA SELATAN\n",
              "6                      BENGKULU\n",
              "7                       LAMPUNG\n",
              "8     KEPULAUAN BANGKA BELITUNG\n",
              "9                KEPULAUAN RIAU\n",
              "10                  DKI JAKARTA\n",
              "11                   JAWA BARAT\n",
              "12                  JAWA TENGAH\n",
              "13                DI YOGYAKARTA\n",
              "14                   JAWA TIMUR\n",
              "15                       BANTEN\n",
              "16                         BALI\n",
              "17          NUSA TENGGARA BARAT\n",
              "18          NUSA TENGGARA TIMUR\n",
              "19             KALIMANTAN BARAT\n",
              "20            KALIMANTAN TENGAH\n",
              "21           KALIMANTAN SELATAN\n",
              "22             KALIMANTAN TIMUR\n",
              "23             KALIMANTAN UTARA\n",
              "24               SULAWESI UTARA\n",
              "25              SULAWESI TENGAH\n",
              "26             SULAWESI SELATAN\n",
              "27            SULAWESI TENGGARA\n",
              "28                    GORONTALO\n",
              "29               SULAWESI BARAT\n",
              "30                       MALUKU\n",
              "31                 MALUKU UTARA\n",
              "32                  PAPUA BARAT\n",
              "33                        PAPUA\n",
              "34                    INDONESIA\n",
              "Name: Provinsi, dtype: object"
            ],
            "text/html": [
              "<div>\n",
              "<style scoped>\n",
              "    .dataframe tbody tr th:only-of-type {\n",
              "        vertical-align: middle;\n",
              "    }\n",
              "\n",
              "    .dataframe tbody tr th {\n",
              "        vertical-align: top;\n",
              "    }\n",
              "\n",
              "    .dataframe thead th {\n",
              "        text-align: right;\n",
              "    }\n",
              "</style>\n",
              "<table border=\"1\" class=\"dataframe\">\n",
              "  <thead>\n",
              "    <tr style=\"text-align: right;\">\n",
              "      <th></th>\n",
              "      <th>Provinsi</th>\n",
              "    </tr>\n",
              "  </thead>\n",
              "  <tbody>\n",
              "    <tr>\n",
              "      <th>0</th>\n",
              "      <td>ACEH</td>\n",
              "    </tr>\n",
              "    <tr>\n",
              "      <th>1</th>\n",
              "      <td>SUMATERA UTARA</td>\n",
              "    </tr>\n",
              "    <tr>\n",
              "      <th>2</th>\n",
              "      <td>SUMATERA BARAT</td>\n",
              "    </tr>\n",
              "    <tr>\n",
              "      <th>3</th>\n",
              "      <td>RIAU</td>\n",
              "    </tr>\n",
              "    <tr>\n",
              "      <th>4</th>\n",
              "      <td>JAMBI</td>\n",
              "    </tr>\n",
              "    <tr>\n",
              "      <th>5</th>\n",
              "      <td>SUMATERA SELATAN</td>\n",
              "    </tr>\n",
              "    <tr>\n",
              "      <th>6</th>\n",
              "      <td>BENGKULU</td>\n",
              "    </tr>\n",
              "    <tr>\n",
              "      <th>7</th>\n",
              "      <td>LAMPUNG</td>\n",
              "    </tr>\n",
              "    <tr>\n",
              "      <th>8</th>\n",
              "      <td>KEPULAUAN BANGKA BELITUNG</td>\n",
              "    </tr>\n",
              "    <tr>\n",
              "      <th>9</th>\n",
              "      <td>KEPULAUAN RIAU</td>\n",
              "    </tr>\n",
              "    <tr>\n",
              "      <th>10</th>\n",
              "      <td>DKI JAKARTA</td>\n",
              "    </tr>\n",
              "    <tr>\n",
              "      <th>11</th>\n",
              "      <td>JAWA BARAT</td>\n",
              "    </tr>\n",
              "    <tr>\n",
              "      <th>12</th>\n",
              "      <td>JAWA TENGAH</td>\n",
              "    </tr>\n",
              "    <tr>\n",
              "      <th>13</th>\n",
              "      <td>DI YOGYAKARTA</td>\n",
              "    </tr>\n",
              "    <tr>\n",
              "      <th>14</th>\n",
              "      <td>JAWA TIMUR</td>\n",
              "    </tr>\n",
              "    <tr>\n",
              "      <th>15</th>\n",
              "      <td>BANTEN</td>\n",
              "    </tr>\n",
              "    <tr>\n",
              "      <th>16</th>\n",
              "      <td>BALI</td>\n",
              "    </tr>\n",
              "    <tr>\n",
              "      <th>17</th>\n",
              "      <td>NUSA TENGGARA BARAT</td>\n",
              "    </tr>\n",
              "    <tr>\n",
              "      <th>18</th>\n",
              "      <td>NUSA TENGGARA TIMUR</td>\n",
              "    </tr>\n",
              "    <tr>\n",
              "      <th>19</th>\n",
              "      <td>KALIMANTAN BARAT</td>\n",
              "    </tr>\n",
              "    <tr>\n",
              "      <th>20</th>\n",
              "      <td>KALIMANTAN TENGAH</td>\n",
              "    </tr>\n",
              "    <tr>\n",
              "      <th>21</th>\n",
              "      <td>KALIMANTAN SELATAN</td>\n",
              "    </tr>\n",
              "    <tr>\n",
              "      <th>22</th>\n",
              "      <td>KALIMANTAN TIMUR</td>\n",
              "    </tr>\n",
              "    <tr>\n",
              "      <th>23</th>\n",
              "      <td>KALIMANTAN UTARA</td>\n",
              "    </tr>\n",
              "    <tr>\n",
              "      <th>24</th>\n",
              "      <td>SULAWESI UTARA</td>\n",
              "    </tr>\n",
              "    <tr>\n",
              "      <th>25</th>\n",
              "      <td>SULAWESI TENGAH</td>\n",
              "    </tr>\n",
              "    <tr>\n",
              "      <th>26</th>\n",
              "      <td>SULAWESI SELATAN</td>\n",
              "    </tr>\n",
              "    <tr>\n",
              "      <th>27</th>\n",
              "      <td>SULAWESI TENGGARA</td>\n",
              "    </tr>\n",
              "    <tr>\n",
              "      <th>28</th>\n",
              "      <td>GORONTALO</td>\n",
              "    </tr>\n",
              "    <tr>\n",
              "      <th>29</th>\n",
              "      <td>SULAWESI BARAT</td>\n",
              "    </tr>\n",
              "    <tr>\n",
              "      <th>30</th>\n",
              "      <td>MALUKU</td>\n",
              "    </tr>\n",
              "    <tr>\n",
              "      <th>31</th>\n",
              "      <td>MALUKU UTARA</td>\n",
              "    </tr>\n",
              "    <tr>\n",
              "      <th>32</th>\n",
              "      <td>PAPUA BARAT</td>\n",
              "    </tr>\n",
              "    <tr>\n",
              "      <th>33</th>\n",
              "      <td>PAPUA</td>\n",
              "    </tr>\n",
              "    <tr>\n",
              "      <th>34</th>\n",
              "      <td>INDONESIA</td>\n",
              "    </tr>\n",
              "  </tbody>\n",
              "</table>\n",
              "</div><br><label><b>dtype:</b> object</label>"
            ]
          },
          "metadata": {},
          "execution_count": 260
        }
      ]
    },
    {
      "cell_type": "markdown",
      "source": [
        "\n",
        "**Terlihat bahwa terdapat 35 baris pada kolom Provinsi. Pada tahun 34, Indonesia hanya memiliki 34 provinsi. 1 baris lainnya adalah MMR untuk Indonesia secara keseluruhan.**"
      ],
      "metadata": {
        "id": "u9c7eH9o6qPC"
      }
    },
    {
      "cell_type": "code",
      "source": [
        "## PISAHKAN DATA MASING MASING PROVINSI DENGAN KESELURUHAN INDONESIA\n",
        "data_provinsi = data.iloc[:-1]\n",
        "data_indonesia = data.iloc[-1:]"
      ],
      "metadata": {
        "id": "Irsb_7QBDqxD"
      },
      "execution_count": null,
      "outputs": []
    },
    {
      "cell_type": "code",
      "source": [
        "# MENUNJUKAN BAR PLOT\n",
        "plt.show(data_provinsi.plot(x='Provinsi', y='MMR', kind='bar'))"
      ],
      "metadata": {
        "colab": {
          "base_uri": "https://localhost:8080/",
          "height": 656
        },
        "id": "2yReTPAJ3UO8",
        "outputId": "e774daf7-a1eb-4f19-bd6a-f14a27b2adfb"
      },
      "execution_count": null,
      "outputs": [
        {
          "output_type": "display_data",
          "data": {
            "text/plain": [
              "<Figure size 640x480 with 1 Axes>"
            ],
            "image/png": "[encoded data removed]"
          },
          "metadata": {}
        }
      ]
    },
    {
      "cell_type": "markdown",
      "source": [
        "**Terlihat sekilas bahwa Papua adalah provinsi dengan MMR tertinggi**"
      ],
      "metadata": {
        "id": "9I9iRYIUZ08e"
      }
    },
    {
      "cell_type": "code",
      "source": [
        "# MENAMPILKAN BOXPLOT\n",
        "plt.figure(figsize=(10, 6))\n",
        "plt.boxplot(data_provinsi['MMR'], vert=False, patch_artist=True, showfliers=False)\n",
        "\n",
        "plt.title('Boxplot MMR')\n",
        "plt.xlabel('MMR')"
      ],
      "metadata": {
        "colab": {
          "base_uri": "https://localhost:8080/",
          "height": 582
        },
        "id": "x5TBUyiFZ_3N",
        "outputId": "759baf38-344d-4a91-eb81-523292e58fdc"
      },
      "execution_count": null,
      "outputs": [
        {
          "output_type": "execute_result",
          "data": {
            "text/plain": [
              "Text(0.5, 0, 'MMR')"
            ]
          },
          "metadata": {},
          "execution_count": 285
        },
        {
          "output_type": "display_data",
          "data": {
            "text/plain": [
              "<Figure size 1000x600 with 1 Axes>"
            ],
            "image/png": "[encoded data removed]"
          },
          "metadata": {}
        }
      ]
    },
    {
      "cell_type": "markdown",
      "source": [
        "Terlepas signifikannya MMR pada Provinsi Papua, data MMR provinsi tidak memiliki outlier bedasarkan Boxplot di atas. Hal ini menunjukan bahwa distribusi data MMR provinsi homogen."
      ],
      "metadata": {
        "id": "2WHUndbKaF3j"
      }
    },
    {
      "cell_type": "code",
      "source": [
        "# KLASTERISASI DATA PROVINSI BEDASARKAN PULAU\n",
        "data_sumatera = data_provinsi[:10]\n",
        "data_jawa = data_provinsi[10:16]\n",
        "data_kepulauan_sunda_kecil = data_provinsi[16:19]\n",
        "data_kalimantan = data_provinsi[19:24]\n",
        "data_sulawesi = data_provinsi[24:30]\n",
        "data_maluku = data_provinsi[30:32]\n",
        "data_papua = data_provinsi[32:]"
      ],
      "metadata": {
        "id": "KOeTL1F0D8-h"
      },
      "execution_count": null,
      "outputs": []
    },
    {
      "cell_type": "markdown",
      "source": [
        "###MMR PULAU SUMATERA"
      ],
      "metadata": {
        "id": "LFro_U77NqFc"
      }
    },
    {
      "cell_type": "code",
      "source": [
        "data_sumatera.plot(x='Provinsi', y='MMR', kind='barh')"
      ],
      "metadata": {
        "colab": {
          "base_uri": "https://localhost:8080/",
          "height": 448
        },
        "id": "qm7q1jpfNv2R",
        "outputId": "9a342ac8-1f10-4e21-8365-3ebc7c32321b"
      },
      "execution_count": null,
      "outputs": [
        {
          "output_type": "execute_result",
          "data": {
            "text/plain": [
              "<Axes: ylabel='Provinsi'>"
            ]
          },
          "metadata": {},
          "execution_count": 244
        },
        {
          "output_type": "display_data",
          "data": {
            "text/plain": [
              "<Figure size 640x480 with 1 Axes>"
            ],
            "image/png": "[encoded data removed]"
          },
          "metadata": {}
        }
      ]
    },
    {
      "cell_type": "markdown",
      "source": [
        "Terlihat bahwa MMR tertinggi terdapat pada provinsi Aceh dan Kep. Bangka Belitung"
      ],
      "metadata": {
        "id": "MuDUeOcZOZI0"
      }
    },
    {
      "cell_type": "code",
      "source": [
        "# MENAMPILKAN BOXPLOT\n",
        "plt.figure(figsize=(10, 6))\n",
        "plt.boxplot(data_sumatera['MMR'], vert=False, patch_artist=True, showfliers=False)\n",
        "\n",
        "plt.title('Boxplot MMR Pulau Sumatera')\n",
        "plt.xlabel('MMR')\n",
        "plt.yticks([1], ['Pulau Sumatera'])\n",
        "plt.show()"
      ],
      "metadata": {
        "colab": {
          "base_uri": "https://localhost:8080/",
          "height": 564
        },
        "id": "Le9HaLVdPHEm",
        "outputId": "30b39328-ef57-4641-be8a-5eea589c699b"
      },
      "execution_count": null,
      "outputs": [
        {
          "output_type": "display_data",
          "data": {
            "text/plain": [
              "<Figure size 1000x600 with 1 Axes>"
            ],
            "image/png": "[encoded data removed]"
          },
          "metadata": {}
        }
      ]
    },
    {
      "cell_type": "markdown",
      "source": [
        "**Bedasarkan Boxplot, terlihat bahwa tidak terdapat outlier pada data. Hal ini membuktikan bahwa masing-masing provinsi pada pulau sumatera memiliki distribusi data MMR yang relatif homogen**"
      ],
      "metadata": {
        "id": "VmpogiFaPMHQ"
      }
    },
    {
      "cell_type": "code",
      "source": [
        "# MENGHITUNG MMR UNTUK PULAU SUMATERA\n",
        "MMR_SUMATERA = data_sumatera['Jumlah Kematian Ibu'].sum()/data_sumatera['Jumlah Kelahiran Hidup'].sum() * 100000"
      ],
      "metadata": {
        "id": "_rjd2C6OPhSf"
      },
      "execution_count": null,
      "outputs": []
    },
    {
      "cell_type": "markdown",
      "source": [
        "###MMR PULAU JAWA"
      ],
      "metadata": {
        "id": "onOuZiwnWiil"
      }
    },
    {
      "cell_type": "code",
      "source": [
        "data_jawa.plot(x='Provinsi', y='MMR', kind='barh')"
      ],
      "metadata": {
        "colab": {
          "base_uri": "https://localhost:8080/",
          "height": 448
        },
        "outputId": "765d29d9-0413-44f6-e4b5-f0638e58224a",
        "id": "pXyoJYMuWiim"
      },
      "execution_count": null,
      "outputs": [
        {
          "output_type": "execute_result",
          "data": {
            "text/plain": [
              "<Axes: ylabel='Provinsi'>"
            ]
          },
          "metadata": {},
          "execution_count": 252
        },
        {
          "output_type": "display_data",
          "data": {
            "text/plain": [
              "<Figure size 640x480 with 1 Axes>"
            ],
            "image/png": "[encoded data removed]"
          },
          "metadata": {}
        }
      ]
    },
    {
      "cell_type": "markdown",
      "source": [
        "Terlihat bahwa MMR tertinggi terdapat pada provinsi Jawa Barat"
      ],
      "metadata": {
        "id": "1IcUbtgpWiio"
      }
    },
    {
      "cell_type": "code",
      "source": [
        "# MENAMPILKAN BOXPLOT\n",
        "plt.figure(figsize=(10, 6))\n",
        "plt.boxplot(data_jawa['MMR'], vert=False, patch_artist=True, showfliers=False)\n",
        "\n",
        "plt.title('Boxplot MMR Pulau Jawa')\n",
        "plt.xlabel('MMR')\n",
        "plt.yticks([1], ['Pulau Jawa'])\n",
        "plt.show()"
      ],
      "metadata": {
        "colab": {
          "base_uri": "https://localhost:8080/",
          "height": 564
        },
        "outputId": "95319394-3699-4195-f8e0-b315595b663e",
        "id": "mrtzY7p3Wiio"
      },
      "execution_count": null,
      "outputs": [
        {
          "output_type": "display_data",
          "data": {
            "text/plain": [
              "<Figure size 1000x600 with 1 Axes>"
            ],
            "image/png": "[encoded data removed]"
          },
          "metadata": {}
        }
      ]
    },
    {
      "cell_type": "markdown",
      "source": [
        "**Bedasarkan Boxplot, terlihat bahwa tidak terdapat outlier pada data. Hal ini membuktikan bahwa masing-masing provinsi pada pulau Jawa memiliki distribusi data MMR yang relatif homogen**"
      ],
      "metadata": {
        "id": "JQN9hl2qWiip"
      }
    },
    {
      "cell_type": "code",
      "source": [
        "# MENGHITUNG MMR UNTUK PULAU JAWA\n",
        "MMR_JAWA = data_jawa['Jumlah Kematian Ibu'].sum()/data_jawa['Jumlah Kelahiran Hidup'].sum() * 100000"
      ],
      "metadata": {
        "id": "Lsd2XX0SWiip"
      },
      "execution_count": null,
      "outputs": []
    },
    {
      "cell_type": "markdown",
      "source": [
        "###MMR KEPULAUAN SUNDA KECIL"
      ],
      "metadata": {
        "id": "iGVsgEBzW_2E"
      }
    },
    {
      "cell_type": "code",
      "source": [
        "data_kepulauan_sunda_kecil.plot(x='Provinsi', y='MMR', kind='barh')"
      ],
      "metadata": {
        "colab": {
          "base_uri": "https://localhost:8080/",
          "height": 448
        },
        "outputId": "a6514b4c-befb-48ca-c50b-c20b1cabcd01",
        "id": "w_8atMTPW_2F"
      },
      "execution_count": null,
      "outputs": [
        {
          "output_type": "execute_result",
          "data": {
            "text/plain": [
              "<Axes: ylabel='Provinsi'>"
            ]
          },
          "metadata": {},
          "execution_count": 261
        },
        {
          "output_type": "display_data",
          "data": {
            "text/plain": [
              "<Figure size 640x480 with 1 Axes>"
            ],
            "image/png": "[encoded data removed]"
          },
          "metadata": {}
        }
      ]
    },
    {
      "cell_type": "markdown",
      "source": [
        "Terlihat bahwa MMR tertinggi terdapat pada provinsi Nusa Tenggara Timur"
      ],
      "metadata": {
        "id": "VZjXUs3WW_2G"
      }
    },
    {
      "cell_type": "code",
      "source": [
        "# MENAMPILKAN BOXPLOT\n",
        "plt.figure(figsize=(10, 6))\n",
        "plt.boxplot(data_kepulauan_sunda_kecil['MMR'], vert=False, patch_artist=True, showfliers=False)\n",
        "\n",
        "plt.title('Boxplot MMR Kepulauan Sunda Kecil')\n",
        "plt.xlabel('MMR')\n",
        "plt.yticks([1], ['Kepulauan Sunda Kecil'])\n",
        "plt.show()"
      ],
      "metadata": {
        "colab": {
          "base_uri": "https://localhost:8080/",
          "height": 564
        },
        "outputId": "ec27731c-a9ce-41e6-a179-1beae9ab3344",
        "id": "ZKsm86fKW_2G"
      },
      "execution_count": null,
      "outputs": [
        {
          "output_type": "display_data",
          "data": {
            "text/plain": [
              "<Figure size 1000x600 with 1 Axes>"
            ],
            "image/png": "[encoded data removed]"
          },
          "metadata": {}
        }
      ]
    },
    {
      "cell_type": "markdown",
      "source": [
        "**Bedasarkan Boxplot, terlihat bahwa tidak terdapat outlier pada data. Hal ini membuktikan bahwa masing-masing provinsi pada Kepulauan Sunda Kecil memiliki distribusi data MMR yang relatif homogen**"
      ],
      "metadata": {
        "id": "uGQQbvVqW_2G"
      }
    },
    {
      "cell_type": "code",
      "source": [
        "# MENGHITUNG MMR UNTUK KEPULAUAN SUNDA KECIL\n",
        "MMR_KEPULAUAN_SUNDA_KECIL = data_kepulauan_sunda_kecil['Jumlah Kematian Ibu'].sum()/data_kepulauan_sunda_kecil['Jumlah Kelahiran Hidup'].sum() * 100000\n",
        "MMR_KEPULAUAN_SUNDA_KECIL"
      ],
      "metadata": {
        "colab": {
          "base_uri": "https://localhost:8080/"
        },
        "id": "s8O9g4p9W_2H",
        "outputId": "bc95cb84-d006-4124-aa19-adaac564a79a"
      },
      "execution_count": null,
      "outputs": [
        {
          "output_type": "execute_result",
          "data": {
            "text/plain": [
              "242.4130565762691"
            ]
          },
          "metadata": {},
          "execution_count": 263
        }
      ]
    },
    {
      "cell_type": "markdown",
      "source": [
        "###MMR KEPULAUAN KALIMANTAN"
      ],
      "metadata": {
        "id": "4jMrslkUXZOp"
      }
    },
    {
      "cell_type": "code",
      "source": [
        "data_kalimantan.plot(x='Provinsi', y='MMR', kind='barh')"
      ],
      "metadata": {
        "colab": {
          "base_uri": "https://localhost:8080/",
          "height": 448
        },
        "outputId": "51973b86-ecda-4cf5-b3e8-c480ac0265d2",
        "id": "JAPQhrweXZOq"
      },
      "execution_count": null,
      "outputs": [
        {
          "output_type": "execute_result",
          "data": {
            "text/plain": [
              "<Axes: ylabel='Provinsi'>"
            ]
          },
          "metadata": {},
          "execution_count": 265
        },
        {
          "output_type": "display_data",
          "data": {
            "text/plain": [
              "<Figure size 640x480 with 1 Axes>"
            ],
            "image/png": "[encoded data removed]"
          },
          "metadata": {}
        }
      ]
    },
    {
      "cell_type": "markdown",
      "source": [
        "Terlihat bahwa MMR tertinggi terdapat pada provinsi Kalimantan Barat"
      ],
      "metadata": {
        "id": "taLi07uBXZOr"
      }
    },
    {
      "cell_type": "code",
      "source": [
        "# MENAMPILKAN BOXPLOT\n",
        "plt.figure(figsize=(10, 6))\n",
        "plt.boxplot(data_kalimantan['MMR'], vert=False, patch_artist=True, showfliers=False)\n",
        "\n",
        "plt.title('Boxplot MMR Kalimantan')\n",
        "plt.xlabel('MMR')\n",
        "plt.yticks([1], ['Kalimantanl'])\n",
        "plt.show()"
      ],
      "metadata": {
        "colab": {
          "base_uri": "https://localhost:8080/",
          "height": 564
        },
        "outputId": "3c08bb7d-ae54-42d4-bd04-3841acfd6266",
        "id": "TA0awcfWXZOr"
      },
      "execution_count": null,
      "outputs": [
        {
          "output_type": "display_data",
          "data": {
            "text/plain": [
              "<Figure size 1000x600 with 1 Axes>"
            ],
            "image/png": "[encoded data removed]"
          },
          "metadata": {}
        }
      ]
    },
    {
      "cell_type": "markdown",
      "source": [
        "**Bedasarkan Boxplot, terlihat bahwa tidak terdapat outlier pada data. Hal ini membuktikan bahwa masing-masing provinsi pada pulau Kalimantan memiliki distribusi data MMR yang relatif homogen**"
      ],
      "metadata": {
        "id": "mFwfdeRdXZOs"
      }
    },
    {
      "cell_type": "code",
      "source": [
        "# MENGHITUNG MMR UNTUK KEPULAUAN KALIMANTAN\n",
        "MMR_KALIMANTAN = data_kalimantan['Jumlah Kematian Ibu'].sum()/data_kalimantan['Jumlah Kelahiran Hidup'].sum() * 100000\n",
        "MMR_KALIMANTAN"
      ],
      "metadata": {
        "colab": {
          "base_uri": "https://localhost:8080/"
        },
        "outputId": "50b56e5f-6876-4e13-ec91-1a6ebd8e3148",
        "id": "mvPkGPU_XZOs"
      },
      "execution_count": null,
      "outputs": [
        {
          "output_type": "execute_result",
          "data": {
            "text/plain": [
              "215.64362486627243"
            ]
          },
          "metadata": {},
          "execution_count": 277
        }
      ]
    },
    {
      "cell_type": "markdown",
      "source": [
        "###MMR PULAU SULAWESI"
      ],
      "metadata": {
        "id": "t3ijO_S0X8y-"
      }
    },
    {
      "cell_type": "code",
      "source": [
        "data_sulawesi.plot(x='Provinsi', y='MMR', kind='barh')"
      ],
      "metadata": {
        "colab": {
          "base_uri": "https://localhost:8080/",
          "height": 448
        },
        "outputId": "3a48c917-8741-4e21-bfc4-31941dd7fffb",
        "id": "wbiLZZKmX8y_"
      },
      "execution_count": null,
      "outputs": [
        {
          "output_type": "execute_result",
          "data": {
            "text/plain": [
              "<Axes: ylabel='Provinsi'>"
            ]
          },
          "metadata": {},
          "execution_count": 275
        },
        {
          "output_type": "display_data",
          "data": {
            "text/plain": [
              "<Figure size 640x480 with 1 Axes>"
            ],
            "image/png": "[encoded data removed]"
          },
          "metadata": {}
        }
      ]
    },
    {
      "cell_type": "markdown",
      "source": [
        "Terlihat bahwa MMR tertinggi terdapat pada provinsi Sulawesi Barat"
      ],
      "metadata": {
        "id": "Nk8CRGnsX8zA"
      }
    },
    {
      "cell_type": "code",
      "source": [
        "# MENAMPILKAN BOXPLOT\n",
        "plt.figure(figsize=(10, 6))\n",
        "plt.boxplot(data_sulawesi['MMR'], vert=False, patch_artist=True, showfliers=False)\n",
        "\n",
        "plt.title('Boxplot MMR Sulawesi')\n",
        "plt.xlabel('MMR')\n",
        "plt.yticks([1], ['Sulawesi'])\n",
        "plt.show()"
      ],
      "metadata": {
        "colab": {
          "base_uri": "https://localhost:8080/",
          "height": 564
        },
        "outputId": "6650c711-cce9-4016-9139-9fa10d1ec815",
        "id": "PHckFA4SX8zA"
      },
      "execution_count": null,
      "outputs": [
        {
          "output_type": "display_data",
          "data": {
            "text/plain": [
              "<Figure size 1000x600 with 1 Axes>"
            ],
            "image/png": "[encoded data removed]"
          },
          "metadata": {}
        }
      ]
    },
    {
      "cell_type": "markdown",
      "source": [
        "**Bedasarkan Boxplot, terlihat bahwa tidak terdapat outlier pada data. Hal ini membuktikan bahwa masing-masing provinsi pada pulau Sulawesi memiliki distribusi data MMR yang relatif homogen**"
      ],
      "metadata": {
        "id": "aoAZqMnoX8zB"
      }
    },
    {
      "cell_type": "code",
      "source": [
        "# MENGHITUNG MMR UNTUK KEPULAUAN SULAWESI\n",
        "MMR_KEPULAUAN_SULAWESI = data_sulawesi['Jumlah Kematian Ibu'].sum()/data_sulawesi['Jumlah Kelahiran Hidup'].sum() * 100000\n",
        "MMR_KEPULAUAN_SULAWESI"
      ],
      "metadata": {
        "colab": {
          "base_uri": "https://localhost:8080/"
        },
        "outputId": "ec871920-34b6-4d60-cbdd-ebde7d4be62d",
        "id": "CfFZuaOvX8zB"
      },
      "execution_count": null,
      "outputs": [
        {
          "output_type": "execute_result",
          "data": {
            "text/plain": [
              "223.5009751235265"
            ]
          },
          "metadata": {},
          "execution_count": 271
        }
      ]
    },
    {
      "cell_type": "markdown",
      "source": [
        "###MMR KEPULAUAN MALUKU"
      ],
      "metadata": {
        "id": "vo9cIq_sYr7a"
      }
    },
    {
      "cell_type": "code",
      "source": [
        "data_maluku.plot(x='Provinsi', y='MMR', kind='barh')"
      ],
      "metadata": {
        "colab": {
          "base_uri": "https://localhost:8080/",
          "height": 448
        },
        "outputId": "fb93243b-f29a-4658-90ac-4c32a024f07e",
        "id": "YZ6gQUKNYr7b"
      },
      "execution_count": null,
      "outputs": [
        {
          "output_type": "execute_result",
          "data": {
            "text/plain": [
              "<Axes: ylabel='Provinsi'>"
            ]
          },
          "metadata": {},
          "execution_count": 278
        },
        {
          "output_type": "display_data",
          "data": {
            "text/plain": [
              "<Figure size 640x480 with 1 Axes>"
            ],
            "image/png": "[encoded data removed]"
          },
          "metadata": {}
        }
      ]
    },
    {
      "cell_type": "markdown",
      "source": [
        "Terlihat bahwa MMR tertinggi terdapat pada provinsi Maluku"
      ],
      "metadata": {
        "id": "d3BQISMkYr7b"
      }
    },
    {
      "cell_type": "markdown",
      "source": [
        "**Tidak perlu boxplot karena hanya ada 2 data pada Pulau Maluku sehingga tidak mungkin outlier ada**"
      ],
      "metadata": {
        "id": "to9_bzWjYr7c"
      }
    },
    {
      "cell_type": "code",
      "source": [
        "# MENGHITUNG MMR UNTUK KEPULAUAN MALUKU\n",
        "MMR_KEPULAUAN_MALUKU = data_maluku['Jumlah Kematian Ibu'].sum()/data_maluku['Jumlah Kelahiran Hidup'].sum() * 100000\n",
        "MMR_KEPULAUAN_MALUKU"
      ],
      "metadata": {
        "colab": {
          "base_uri": "https://localhost:8080/"
        },
        "outputId": "2cb3c56d-b291-4fd8-b3aa-c51dfa189848",
        "id": "zsVnKJUGYr7c"
      },
      "execution_count": null,
      "outputs": [
        {
          "output_type": "execute_result",
          "data": {
            "text/plain": [
              "258.56267939257964"
            ]
          },
          "metadata": {},
          "execution_count": 279
        }
      ]
    },
    {
      "cell_type": "markdown",
      "source": [],
      "metadata": {
        "id": "ovKF-oTIZKHb"
      }
    },
    {
      "cell_type": "markdown",
      "source": [
        "###MMR PULAU PAPUA"
      ],
      "metadata": {
        "id": "1sbYkkPXZPxC"
      }
    },
    {
      "cell_type": "code",
      "source": [
        "data_papua.plot(x='Provinsi', y='MMR', kind='barh')"
      ],
      "metadata": {
        "colab": {
          "base_uri": "https://localhost:8080/",
          "height": 448
        },
        "outputId": "10859c95-ebf0-469b-e21f-b34ceafdb789",
        "id": "oGEhkQzlZPxD"
      },
      "execution_count": null,
      "outputs": [
        {
          "output_type": "execute_result",
          "data": {
            "text/plain": [
              "<Axes: ylabel='Provinsi'>"
            ]
          },
          "metadata": {},
          "execution_count": 281
        },
        {
          "output_type": "display_data",
          "data": {
            "text/plain": [
              "<Figure size 640x480 with 1 Axes>"
            ],
            "image/png": "[encoded data removed]"
          },
          "metadata": {}
        }
      ]
    },
    {
      "cell_type": "markdown",
      "source": [
        "Terlihat bahwa MMR tertinggi terdapat pada Provinsi Papua"
      ],
      "metadata": {
        "id": "2x_vC_9fZPxE"
      }
    },
    {
      "cell_type": "markdown",
      "source": [
        "**Tidak perlu boxplot karena hanya ada 2 data pada Pulau Papua sehingga tidak mungkin outlier ada**"
      ],
      "metadata": {
        "id": "QA9ObT2DZPxE"
      }
    },
    {
      "cell_type": "code",
      "source": [
        "# MENGHITUNG MMR UNTUK PULAU PAPUA\n",
        "MMR_PAPUA = data_papua['Jumlah Kematian Ibu'].sum()/data_papua['Jumlah Kelahiran Hidup'].sum() * 100000\n",
        "MMR_PAPUA"
      ],
      "metadata": {
        "colab": {
          "base_uri": "https://localhost:8080/"
        },
        "outputId": "7d240207-ad21-4dfa-eb77-2ce714a5d426",
        "id": "1NpjlvpAZPxE"
      },
      "execution_count": null,
      "outputs": [
        {
          "output_type": "execute_result",
          "data": {
            "text/plain": [
              "517.0899965560192"
            ]
          },
          "metadata": {},
          "execution_count": 283
        }
      ]
    },
    {
      "cell_type": "markdown",
      "source": [],
      "metadata": {
        "id": "Ds96utUVanJy"
      }
    },
    {
      "cell_type": "code",
      "source": [
        "data_papua.plot(x='Provinsi', y='MMR', kind='barh')"
      ],
      "metadata": {
        "colab": {
          "base_uri": "https://localhost:8080/",
          "height": 448
        },
        "outputId": "10859c95-ebf0-469b-e21f-b34ceafdb789",
        "id": "BidWy_wqa9RR"
      },
      "execution_count": null,
      "outputs": [
        {
          "output_type": "execute_result",
          "data": {
            "text/plain": [
              "<Axes: ylabel='Provinsi'>"
            ]
          },
          "metadata": {},
          "execution_count": 281
        },
        {
          "output_type": "display_data",
          "data": {
            "text/plain": [
              "<Figure size 640x480 with 1 Axes>"
            ],
            "image/png": "[encoded data removed]"
          },
          "metadata": {}
        }
      ]
    },
    {
      "cell_type": "markdown",
      "source": [
        "Terlihat bahwa MMR tertinggi terdapat pada Provinsi Papua"
      ],
      "metadata": {
        "id": "kV7c-7iZa9RS"
      }
    },
    {
      "cell_type": "markdown",
      "source": [
        "**Tidak perlu boxplot karena hanya ada 2 data pada Pulau Papua sehingga tidak mungkin outlier ada**"
      ],
      "metadata": {
        "id": "uNTWykGLa9RT"
      }
    },
    {
      "cell_type": "code",
      "source": [
        "# MENGHITUNG MMR UNTUK PULAU PAPUA\n",
        "MMR_PAPUA = data_papua['Jumlah Kematian Ibu'].sum()/data_papua['Jumlah Kelahiran Hidup'].sum() * 100000\n",
        "MMR_PAPUA"
      ],
      "metadata": {
        "colab": {
          "base_uri": "https://localhost:8080/"
        },
        "outputId": "7d240207-ad21-4dfa-eb77-2ce714a5d426",
        "id": "0ZgdzuJoa9RT"
      },
      "execution_count": null,
      "outputs": [
        {
          "output_type": "execute_result",
          "data": {
            "text/plain": [
              "517.0899965560192"
            ]
          },
          "metadata": {},
          "execution_count": 283
        }
      ]
    },
    {
      "cell_type": "markdown",
      "source": [
        "###MMR masing-masing pulau bedasarkan kalkulasi sebelumnya"
      ],
      "metadata": {
        "id": "F-ln5K3ga9RU"
      }
    },
    {
      "cell_type": "code",
      "source": [
        "# Membuat tabel baru untuk MMR masing-masing pulau\n",
        "data_mmr_pulau = pd.DataFrame({'Pulau':['Jawa', 'Sumatera','Kepulauan Sunda Kecil','Kalimantan','Sulawesi','Maluku','Papua'] ,\n",
        "                                'MMR': [MMR_JAWA,MMR_SUMATERA,MMR_KEPULAUAN_SUNDA_KECIL,MMR_KALIMANTAN,MMR_KEPULAUAN_SULAWESI,MMR_KEPULAUAN_MALUKU,MMR_PAPUA]})"
      ],
      "metadata": {
        "id": "RCYUWdQ_bMPv"
      },
      "execution_count": null,
      "outputs": []
    },
    {
      "cell_type": "code",
      "source": [
        "data_mmr_pulau"
      ],
      "metadata": {
        "colab": {
          "base_uri": "https://localhost:8080/",
          "height": 269
        },
        "id": "cHGFtXQxclEW",
        "outputId": "f289b061-5a4b-4876-e1c3-fd989df34809"
      },
      "execution_count": null,
      "outputs": [
        {
          "output_type": "execute_result",
          "data": {
            "text/plain": [
              "                   Pulau         MMR\n",
              "0                   Jawa  169.153108\n",
              "1               Sumatera  183.322134\n",
              "2  Kepulauan Sunda Kecil  242.413057\n",
              "3             Kalimantan  215.643625\n",
              "4               Sulawesi  223.500975\n",
              "5                 Maluku  258.562679\n",
              "6                  Papua  517.089997"
            ],
            "text/html": [
              "\n",
              "  <div id=\"df-639a6a8a-0380-4a87-8b7b-e3259432084d\" class=\"colab-df-container\">\n",
              "    <div>\n",
              "<style scoped>\n",
              "    .dataframe tbody tr th:only-of-type {\n",
              "        vertical-align: middle;\n",
              "    }\n",
              "\n",
              "    .dataframe tbody tr th {\n",
              "        vertical-align: top;\n",
              "    }\n",
              "\n",
              "    .dataframe thead th {\n",
              "        text-align: right;\n",
              "    }\n",
              "</style>\n",
              "<table border=\"1\" class=\"dataframe\">\n",
              "  <thead>\n",
              "    <tr style=\"text-align: right;\">\n",
              "      <th></th>\n",
              "      <th>Pulau</th>\n",
              "      <th>MMR</th>\n",
              "    </tr>\n",
              "  </thead>\n",
              "  <tbody>\n",
              "    <tr>\n",
              "      <th>0</th>\n",
              "      <td>Jawa</td>\n",
              "      <td>169.153108</td>\n",
              "    </tr>\n",
              "    <tr>\n",
              "      <th>1</th>\n",
              "      <td>Sumatera</td>\n",
              "      <td>183.322134</td>\n",
              "    </tr>\n",
              "    <tr>\n",
              "      <th>2</th>\n",
              "      <td>Kepulauan Sunda Kecil</td>\n",
              "      <td>242.413057</td>\n",
              "    </tr>\n",
              "    <tr>\n",
              "      <th>3</th>\n",
              "      <td>Kalimantan</td>\n",
              "      <td>215.643625</td>\n",
              "    </tr>\n",
              "    <tr>\n",
              "      <th>4</th>\n",
              "      <td>Sulawesi</td>\n",
              "      <td>223.500975</td>\n",
              "    </tr>\n",
              "    <tr>\n",
              "      <th>5</th>\n",
              "      <td>Maluku</td>\n",
              "      <td>258.562679</td>\n",
              "    </tr>\n",
              "    <tr>\n",
              "      <th>6</th>\n",
              "      <td>Papua</td>\n",
              "      <td>517.089997</td>\n",
              "    </tr>\n",
              "  </tbody>\n",
              "</table>\n",
              "</div>\n",
              "    <div class=\"colab-df-buttons\">\n",
              "\n",
              "  <div class=\"colab-df-container\">\n",
              "    <button class=\"colab-df-convert\" onclick=\"convertToInteractive('df-639a6a8a-0380-4a87-8b7b-e3259432084d')\"\n",
              "            title=\"Convert this dataframe to an interactive table.\"\n",
              "            style=\"display:none;\">\n",
              "\n",
              "  <svg xmlns=\"http://www.w3.org/2000/svg\" height=\"24px\" viewBox=\"0 -960 960 960\">\n",
              "    <path d=\"M120-120v-720h720v720H120Zm60-500h600v-160H180v160Zm220 220h160v-160H400v160Zm0 220h160v-160H400v160ZM180-400h160v-160H180v160Zm440 0h160v-160H620v160ZM180-180h160v-160H180v160Zm440 0h160v-160H620v160Z\"/>\n",
              "  </svg>\n",
              "    </button>\n",
              "\n",
              "  <style>\n",
              "    .colab-df-container {\n",
              "      display:flex;\n",
              "      gap: 12px;\n",
              "    }\n",
              "\n",
              "    .colab-df-convert {\n",
              "      background-color: #E8F0FE;\n",
              "      border: none;\n",
              "      border-radius: 50%;\n",
              "      cursor: pointer;\n",
              "      display: none;\n",
              "      fill: #1967D2;\n",
              "      height: 32px;\n",
              "      padding: 0 0 0 0;\n",
              "      width: 32px;\n",
              "    }\n",
              "\n",
              "    .colab-df-convert:hover {\n",
              "      background-color: #E2EBFA;\n",
              "      box-shadow: 0px 1px 2px rgba(60, 64, 67, 0.3), 0px 1px 3px 1px rgba(60, 64, 67, 0.15);\n",
              "      fill: #174EA6;\n",
              "    }\n",
              "\n",
              "    .colab-df-buttons div {\n",
              "      margin-bottom: 4px;\n",
              "    }\n",
              "\n",
              "    [theme=dark] .colab-df-convert {\n",
              "      background-color: #3B4455;\n",
              "      fill: #D2E3FC;\n",
              "    }\n",
              "\n",
              "    [theme=dark] .colab-df-convert:hover {\n",
              "      background-color: #434B5C;\n",
              "      box-shadow: 0px 1px 3px 1px rgba(0, 0, 0, 0.15);\n",
              "      filter: drop-shadow(0px 1px 2px rgba(0, 0, 0, 0.3));\n",
              "      fill: #FFFFFF;\n",
              "    }\n",
              "  </style>\n",
              "\n",
              "    <script>\n",
              "      const buttonEl =\n",
              "        document.querySelector('#df-639a6a8a-0380-4a87-8b7b-e3259432084d button.colab-df-convert');\n",
              "      buttonEl.style.display =\n",
              "        google.colab.kernel.accessAllowed ? 'block' : 'none';\n",
              "\n",
              "      async function convertToInteractive(key) {\n",
              "        const element = document.querySelector('#df-639a6a8a-0380-4a87-8b7b-e3259432084d');\n",
              "        const dataTable =\n",
              "          await google.colab.kernel.invokeFunction('convertToInteractive',\n",
              "                                                    [key], {});\n",
              "        if (!dataTable) return;\n",
              "\n",
              "        const docLinkHtml = 'Like what you see? Visit the ' +\n",
              "          '<a target=\"_blank\" href=https://colab.research.google.com/notebooks/data_table.ipynb>data table notebook</a>'\n",
              "          + ' to learn more about interactive tables.';\n",
              "        element.innerHTML = '';\n",
              "        dataTable['output_type'] = 'display_data';\n",
              "        await google.colab.output.renderOutput(dataTable, element);\n",
              "        const docLink = document.createElement('div');\n",
              "        docLink.innerHTML = docLinkHtml;\n",
              "        element.appendChild(docLink);\n",
              "      }\n",
              "    </script>\n",
              "  </div>\n",
              "\n",
              "\n",
              "<div id=\"df-da9f8f8f-69eb-42c4-963d-786c8f0874c4\">\n",
              "  <button class=\"colab-df-quickchart\" onclick=\"quickchart('df-da9f8f8f-69eb-42c4-963d-786c8f0874c4')\"\n",
              "            title=\"Suggest charts\"\n",
              "            style=\"display:none;\">\n",
              "\n",
              "<svg xmlns=\"http://www.w3.org/2000/svg\" height=\"24px\"viewBox=\"0 0 24 24\"\n",
              "     width=\"24px\">\n",
              "    <g>\n",
              "        <path d=\"M19 3H5c-1.1 0-2 .9-2 2v14c0 1.1.9 2 2 2h14c1.1 0 2-.9 2-2V5c0-1.1-.9-2-2-2zM9 17H7v-7h2v7zm4 0h-2V7h2v10zm4 0h-2v-4h2v4z\"/>\n",
              "    </g>\n",
              "</svg>\n",
              "  </button>\n",
              "\n",
              "<style>\n",
              "  .colab-df-quickchart {\n",
              "      --bg-color: #E8F0FE;\n",
              "      --fill-color: #1967D2;\n",
              "      --hover-bg-color: #E2EBFA;\n",
              "      --hover-fill-color: #174EA6;\n",
              "      --disabled-fill-color: #AAA;\n",
              "      --disabled-bg-color: #DDD;\n",
              "  }\n",
              "\n",
              "  [theme=dark] .colab-df-quickchart {\n",
              "      --bg-color: #3B4455;\n",
              "      --fill-color: #D2E3FC;\n",
              "      --hover-bg-color: #434B5C;\n",
              "      --hover-fill-color: #FFFFFF;\n",
              "      --disabled-bg-color: #3B4455;\n",
              "      --disabled-fill-color: #666;\n",
              "  }\n",
              "\n",
              "  .colab-df-quickchart {\n",
              "    background-color: var(--bg-color);\n",
              "    border: none;\n",
              "    border-radius: 50%;\n",
              "    cursor: pointer;\n",
              "    display: none;\n",
              "    fill: var(--fill-color);\n",
              "    height: 32px;\n",
              "    padding: 0;\n",
              "    width: 32px;\n",
              "  }\n",
              "\n",
              "  .colab-df-quickchart:hover {\n",
              "    background-color: var(--hover-bg-color);\n",
              "    box-shadow: 0 1px 2px rgba(60, 64, 67, 0.3), 0 1px 3px 1px rgba(60, 64, 67, 0.15);\n",
              "    fill: var(--button-hover-fill-color);\n",
              "  }\n",
              "\n",
              "  .colab-df-quickchart-complete:disabled,\n",
              "  .colab-df-quickchart-complete:disabled:hover {\n",
              "    background-color: var(--disabled-bg-color);\n",
              "    fill: var(--disabled-fill-color);\n",
              "    box-shadow: none;\n",
              "  }\n",
              "\n",
              "  .colab-df-spinner {\n",
              "    border: 2px solid var(--fill-color);\n",
              "    border-color: transparent;\n",
              "    border-bottom-color: var(--fill-color);\n",
              "    animation:\n",
              "      spin 1s steps(1) infinite;\n",
              "  }\n",
              "\n",
              "  @keyframes spin {\n",
              "    0% {\n",
              "      border-color: transparent;\n",
              "      border-bottom-color: var(--fill-color);\n",
              "      border-left-color: var(--fill-color);\n",
              "    }\n",
              "    20% {\n",
              "      border-color: transparent;\n",
              "      border-left-color: var(--fill-color);\n",
              "      border-top-color: var(--fill-color);\n",
              "    }\n",
              "    30% {\n",
              "      border-color: transparent;\n",
              "      border-left-color: var(--fill-color);\n",
              "      border-top-color: var(--fill-color);\n",
              "      border-right-color: var(--fill-color);\n",
              "    }\n",
              "    40% {\n",
              "      border-color: transparent;\n",
              "      border-right-color: var(--fill-color);\n",
              "      border-top-color: var(--fill-color);\n",
              "    }\n",
              "    60% {\n",
              "      border-color: transparent;\n",
              "      border-right-color: var(--fill-color);\n",
              "    }\n",
              "    80% {\n",
              "      border-color: transparent;\n",
              "      border-right-color: var(--fill-color);\n",
              "      border-bottom-color: var(--fill-color);\n",
              "    }\n",
              "    90% {\n",
              "      border-color: transparent;\n",
              "      border-bottom-color: var(--fill-color);\n",
              "    }\n",
              "  }\n",
              "</style>\n",
              "\n",
              "  <script>\n",
              "    async function quickchart(key) {\n",
              "      const quickchartButtonEl =\n",
              "        document.querySelector('#' + key + ' button');\n",
              "      quickchartButtonEl.disabled = true;  // To prevent multiple clicks.\n",
              "      quickchartButtonEl.classList.add('colab-df-spinner');\n",
              "      try {\n",
              "        const charts = await google.colab.kernel.invokeFunction(\n",
              "            'suggestCharts', [key], {});\n",
              "      } catch (error) {\n",
              "        console.error('Error during call to suggestCharts:', error);\n",
              "      }\n",
              "      quickchartButtonEl.classList.remove('colab-df-spinner');\n",
              "      quickchartButtonEl.classList.add('colab-df-quickchart-complete');\n",
              "    }\n",
              "    (() => {\n",
              "      let quickchartButtonEl =\n",
              "        document.querySelector('#df-da9f8f8f-69eb-42c4-963d-786c8f0874c4 button');\n",
              "      quickchartButtonEl.style.display =\n",
              "        google.colab.kernel.accessAllowed ? 'block' : 'none';\n",
              "    })();\n",
              "  </script>\n",
              "</div>\n",
              "\n",
              "  <div id=\"id_1b3f05de-0b79-4624-aa4a-ad4396652343\">\n",
              "    <style>\n",
              "      .colab-df-generate {\n",
              "        background-color: #E8F0FE;\n",
              "        border: none;\n",
              "        border-radius: 50%;\n",
              "        cursor: pointer;\n",
              "        display: none;\n",
              "        fill: #1967D2;\n",
              "        height: 32px;\n",
              "        padding: 0 0 0 0;\n",
              "        width: 32px;\n",
              "      }\n",
              "\n",
              "      .colab-df-generate:hover {\n",
              "        background-color: #E2EBFA;\n",
              "        box-shadow: 0px 1px 2px rgba(60, 64, 67, 0.3), 0px 1px 3px 1px rgba(60, 64, 67, 0.15);\n",
              "        fill: #174EA6;\n",
              "      }\n",
              "\n",
              "      [theme=dark] .colab-df-generate {\n",
              "        background-color: #3B4455;\n",
              "        fill: #D2E3FC;\n",
              "      }\n",
              "\n",
              "      [theme=dark] .colab-df-generate:hover {\n",
              "        background-color: #434B5C;\n",
              "        box-shadow: 0px 1px 3px 1px rgba(0, 0, 0, 0.15);\n",
              "        filter: drop-shadow(0px 1px 2px rgba(0, 0, 0, 0.3));\n",
              "        fill: #FFFFFF;\n",
              "      }\n",
              "    </style>\n",
              "    <button class=\"colab-df-generate\" onclick=\"generateWithVariable('data_mmr_pulau')\"\n",
              "            title=\"Generate code using this dataframe.\"\n",
              "            style=\"display:none;\">\n",
              "\n",
              "  <svg xmlns=\"http://www.w3.org/2000/svg\" height=\"24px\"viewBox=\"0 0 24 24\"\n",
              "       width=\"24px\">\n",
              "    <path d=\"M7,19H8.4L18.45,9,17,7.55,7,17.6ZM5,21V16.75L18.45,3.32a2,2,0,0,1,2.83,0l1.4,1.43a1.91,1.91,0,0,1,.58,1.4,1.91,1.91,0,0,1-.58,1.4L9.25,21ZM18.45,9,17,7.55Zm-12,3A5.31,5.31,0,0,0,4.9,8.1,5.31,5.31,0,0,0,1,6.5,5.31,5.31,0,0,0,4.9,4.9,5.31,5.31,0,0,0,6.5,1,5.31,5.31,0,0,0,8.1,4.9,5.31,5.31,0,0,0,12,6.5,5.46,5.46,0,0,0,6.5,12Z\"/>\n",
              "  </svg>\n",
              "    </button>\n",
              "    <script>\n",
              "      (() => {\n",
              "      const buttonEl =\n",
              "        document.querySelector('#id_1b3f05de-0b79-4624-aa4a-ad4396652343 button.colab-df-generate');\n",
              "      buttonEl.style.display =\n",
              "        google.colab.kernel.accessAllowed ? 'block' : 'none';\n",
              "\n",
              "      buttonEl.onclick = () => {\n",
              "        google.colab.notebook.generateWithVariable('data_mmr_pulau');\n",
              "      }\n",
              "      })();\n",
              "    </script>\n",
              "  </div>\n",
              "\n",
              "    </div>\n",
              "  </div>\n"
            ],
            "application/vnd.google.colaboratory.intrinsic+json": {
              "type": "dataframe",
              "variable_name": "data_mmr_pulau",
              "summary": "{\n  \"name\": \"data_mmr_pulau\",\n  \"rows\": 7,\n  \"fields\": [\n    {\n      \"column\": \"Pulau\",\n      \"properties\": {\n        \"dtype\": \"string\",\n        \"num_unique_values\": 7,\n        \"samples\": [\n          \"Jawa\",\n          \"Sumatera\",\n          \"Maluku\"\n        ],\n        \"semantic_type\": \"\",\n        \"description\": \"\"\n      }\n    },\n    {\n      \"column\": \"MMR\",\n      \"properties\": {\n        \"dtype\": \"number\",\n        \"std\": 118.1974015414692,\n        \"min\": 169.1531080412787,\n        \"max\": 517.0899965560192,\n        \"num_unique_values\": 7,\n        \"samples\": [\n          169.1531080412787,\n          183.32213373762605,\n          258.56267939257964\n        ],\n        \"semantic_type\": \"\",\n        \"description\": \"\"\n      }\n    }\n  ]\n}"
            }
          },
          "metadata": {},
          "execution_count": 290
        }
      ]
    },
    {
      "cell_type": "code",
      "source": [
        "# MENAMPILKAN BARPLOT UNTUK MMR PULAU\n",
        "data_mmr_pulau.plot(x='Pulau', y='MMR', kind='barh')"
      ],
      "metadata": {
        "colab": {
          "base_uri": "https://localhost:8080/",
          "height": 448
        },
        "id": "vX0JVNQ7c3cO",
        "outputId": "f1d23a1f-5031-47a3-a183-ac035ccd5d89"
      },
      "execution_count": null,
      "outputs": [
        {
          "output_type": "execute_result",
          "data": {
            "text/plain": [
              "<Axes: ylabel='Pulau'>"
            ]
          },
          "metadata": {},
          "execution_count": 291
        },
        {
          "output_type": "display_data",
          "data": {
            "text/plain": [
              "<Figure size 640x480 with 1 Axes>"
            ],
            "image/png": "[encoded data removed]"
          },
          "metadata": {}
        }
      ]
    },
    {
      "cell_type": "markdown",
      "source": [
        "Terlihat bahwa pulau Papua memiliki MMR tertinggi"
      ],
      "metadata": {
        "id": "dYk2ZwBKc9ov"
      }
    },
    {
      "cell_type": "markdown",
      "source": [
        "###Kesimpulan"
      ],
      "metadata": {
        "id": "vUBOv66FhZrA"
      }
    },
    {
      "cell_type": "markdown",
      "source": [
        "Terlihat bahwa Pulau dengan MMR tertinggi adalah Pulau Papua dan Provinsi dengan MMR tertinggi adalah Papua. Dari sini kita dapat mengambil kesimpulan bahwa Pulau Papua perlu perhatian lebih untuk ditingkatkan fasilitas kesehatannya."
      ],
      "metadata": {
        "id": "XdEezeuthcr0"
      }
    }
  ]
}